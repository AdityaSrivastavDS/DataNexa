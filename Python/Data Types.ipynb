{
 "cells": [
  {
   "cell_type": "markdown",
   "id": "9fbea709",
   "metadata": {},
   "source": [
    "# Data Types:"
   ]
  },
  {
   "cell_type": "markdown",
   "id": "6da4e5b0",
   "metadata": {},
   "source": [
    "In Python, data types are a classification of the kind of values a variable can hold. They determine what operations can be performed on the data and how they are stored in memory."
   ]
  },
  {
   "cell_type": "raw",
   "id": "be8cb601",
   "metadata": {},
   "source": [
    "Note:- \n",
    "Python is a dynamic typed languages so we don't need to declare data type while initializing value to variables unlike Java,C and C++ which are static typed languages."
   ]
  },
  {
   "cell_type": "markdown",
   "id": "bcf2b1fd",
   "metadata": {},
   "source": [
    "## 1.Numeric Data Type:"
   ]
  },
  {
   "cell_type": "markdown",
   "id": "81347085",
   "metadata": {},
   "source": [
    "### 1.1 Int:"
   ]
  },
  {
   "cell_type": "markdown",
   "id": "74fe499f",
   "metadata": {},
   "source": [
    "Represents integers (whole numbers) without a decimal point. For example: -2, 0, 42.\n"
   ]
  },
  {
   "cell_type": "code",
   "execution_count": 7,
   "id": "10aa109c",
   "metadata": {},
   "outputs": [
    {
     "name": "stdout",
     "output_type": "stream",
     "text": [
      "5\n"
     ]
    }
   ],
   "source": [
    "a = 5\n",
    "print(a)"
   ]
  },
  {
   "cell_type": "code",
   "execution_count": 13,
   "id": "b02c4625",
   "metadata": {},
   "outputs": [
    {
     "name": "stdout",
     "output_type": "stream",
     "text": [
      "-12\n"
     ]
    }
   ],
   "source": [
    "a = -12\n",
    "print(a)"
   ]
  },
  {
   "cell_type": "code",
   "execution_count": 8,
   "id": "25e8c86a",
   "metadata": {},
   "outputs": [
    {
     "name": "stdout",
     "output_type": "stream",
     "text": [
      "2\n"
     ]
    }
   ],
   "source": [
    "#int data type used to convert a float value into integer value\n",
    "a = 2.5\n",
    "print(int(a))"
   ]
  },
  {
   "cell_type": "markdown",
   "id": "6aeed6bf",
   "metadata": {},
   "source": [
    "### 1.2 Float: "
   ]
  },
  {
   "cell_type": "markdown",
   "id": "26fb635f",
   "metadata": {},
   "source": [
    "Represents floating-point numbers (numbers with decimal points). For example: 3.14, -0.5, 2.0."
   ]
  },
  {
   "cell_type": "code",
   "execution_count": 9,
   "id": "ec8d9d11",
   "metadata": {},
   "outputs": [
    {
     "name": "stdout",
     "output_type": "stream",
     "text": [
      "2.5\n"
     ]
    }
   ],
   "source": [
    "b = 2.5\n",
    "print(b)"
   ]
  },
  {
   "cell_type": "code",
   "execution_count": 11,
   "id": "b03710e9",
   "metadata": {},
   "outputs": [
    {
     "name": "stdout",
     "output_type": "stream",
     "text": [
      "-24.6\n"
     ]
    }
   ],
   "source": [
    "b = -24.6\n",
    "print(b)"
   ]
  },
  {
   "cell_type": "code",
   "execution_count": 14,
   "id": "62f836d1",
   "metadata": {},
   "outputs": [
    {
     "name": "stdout",
     "output_type": "stream",
     "text": [
      "56.0\n"
     ]
    }
   ],
   "source": [
    "#here float data type is used to convert a integer value into float\n",
    "b = 56\n",
    "print(float(b))"
   ]
  },
  {
   "cell_type": "markdown",
   "id": "130a0b45",
   "metadata": {},
   "source": [
    "## 2. Sequence Data Type:"
   ]
  },
  {
   "cell_type": "markdown",
   "id": "318e2299",
   "metadata": {},
   "source": [
    "Sequence data types are collections of items that are ordered and can be accessed by their position or index.\n",
    "\n",
    "There are several built-in sequence data types in Python. "
   ]
  },
  {
   "cell_type": "markdown",
   "id": "049a25c6",
   "metadata": {},
   "source": [
    "### 2.1 string:"
   ]
  },
  {
   "cell_type": "markdown",
   "id": "46064888",
   "metadata": {},
   "source": [
    "Strings are sequences of characters, which can be letters, numbers, or symbols. They are enclosed in either single (' ') or double (\" \") quotes.\n",
    "\n",
    "Triple(''' ''') quotes are also used to denote string but it is generally used for multiline strings.\n"
   ]
  },
  {
   "cell_type": "code",
   "execution_count": null,
   "id": "d8d26a08",
   "metadata": {},
   "outputs": [],
   "source": []
  }
 ],
 "metadata": {
  "kernelspec": {
   "display_name": "Python 3 (ipykernel)",
   "language": "python",
   "name": "python3"
  },
  "language_info": {
   "codemirror_mode": {
    "name": "ipython",
    "version": 3
   },
   "file_extension": ".py",
   "mimetype": "text/x-python",
   "name": "python",
   "nbconvert_exporter": "python",
   "pygments_lexer": "ipython3",
   "version": "3.11.5"
  }
 },
 "nbformat": 4,
 "nbformat_minor": 5
}
