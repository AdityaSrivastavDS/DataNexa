{
 "cells": [
  {
   "cell_type": "code",
   "execution_count": 1,
   "id": "90c908d8",
   "metadata": {},
   "outputs": [
    {
     "name": "stdout",
     "output_type": "stream",
     "text": [
      "The Zen of Python, by Tim Peters\n",
      "\n",
      "Beautiful is better than ugly.\n",
      "Explicit is better than implicit.\n",
      "Simple is better than complex.\n",
      "Complex is better than complicated.\n",
      "Flat is better than nested.\n",
      "Sparse is better than dense.\n",
      "Readability counts.\n",
      "Special cases aren't special enough to break the rules.\n",
      "Although practicality beats purity.\n",
      "Errors should never pass silently.\n",
      "Unless explicitly silenced.\n",
      "In the face of ambiguity, refuse the temptation to guess.\n",
      "There should be one-- and preferably only one --obvious way to do it.\n",
      "Although that way may not be obvious at first unless you're Dutch.\n",
      "Now is better than never.\n",
      "Although never is often better than *right* now.\n",
      "If the implementation is hard to explain, it's a bad idea.\n",
      "If the implementation is easy to explain, it may be a good idea.\n",
      "Namespaces are one honking great idea -- let's do more of those!\n"
     ]
    }
   ],
   "source": [
    "# Try to guess the result before you actually run it\n",
    "import this"
   ]
  },
  {
   "cell_type": "code",
   "execution_count": 3,
   "id": "74e9c35d",
   "metadata": {},
   "outputs": [
    {
     "name": "stdout",
     "output_type": "stream",
     "text": [
      "1 2 3 4 5\n"
     ]
    }
   ],
   "source": [
    "# Multiple Return Values in Python!\n",
    "def func():\n",
    "  return 1, 2, 3, 4, 5\n",
    "\n",
    "one, two, three, four, five = func()\n",
    "\n",
    "print(one, two, three, four, five)\n"
   ]
  },
  {
   "cell_type": "code",
   "execution_count": 5,
   "id": "dadb8be0",
   "metadata": {},
   "outputs": [
    {
     "name": "stdout",
     "output_type": "stream",
     "text": [
      "1st Case:\n",
      "2\n",
      "2nd Case:\n",
      "No call for Break. Else is executed\n"
     ]
    }
   ],
   "source": [
    "def func(array):\n",
    "     for num in array:\n",
    "        if num%2==0:\n",
    "            print(num)\n",
    "            break # Case1: Break is called, so 'else' wouldn't be executed.\n",
    "     else: # Case 2: 'else' executed since break is not called\n",
    "        print(\"No call for Break. Else is executed\") \n",
    " \n",
    "print(\"1st Case:\")\n",
    "a = [2]\n",
    "func(a)\n",
    "print(\"2nd Case:\")\n",
    "a = [1]\n",
    "func(a)\n"
   ]
  },
  {
   "cell_type": "code",
   "execution_count": 6,
   "id": "cd135641",
   "metadata": {},
   "outputs": [
    {
     "name": "stdout",
     "output_type": "stream",
     "text": [
      "3 4\n",
      "2 3\n"
     ]
    }
   ],
   "source": [
    "*/Function Argument Unpacking is another awesome feature of Python. One can unpack a list or a dictionary as function arguments \n",
    "using * and ** respectively. This is commonly known as the Splat operator. Example here\n",
    "def point(x, y):\n",
    "    print(x,y)\n",
    " \n",
    "foo_list = (3, 4)\n",
    "bar_dict = {'y': 3, 'x': 2}\n",
    " \n",
    "point(*foo_list) # Unpacking Lists\n",
    "point(**bar_dict) # Unpacking Dictionaries"
   ]
  },
  {
   "cell_type": "code",
   "execution_count": 7,
   "id": "dde7078f",
   "metadata": {},
   "outputs": [
    {
     "name": "stdout",
     "output_type": "stream",
     "text": [
      "0 a\n",
      "1 e\n",
      "2 i\n",
      "3 o\n",
      "4 u\n"
     ]
    }
   ],
   "source": [
    "# Know the index faster\n",
    "vowels=['a','e','i','o','u']\n",
    "for i, letter in enumerate(vowels):\n",
    "    print (i, letter)"
   ]
  },
  {
   "cell_type": "code",
   "execution_count": 8,
   "id": "898f0b9b",
   "metadata": {},
   "outputs": [
    {
     "name": "stdout",
     "output_type": "stream",
     "text": [
      "True\n",
      "True\n",
      "True\n"
     ]
    }
   ],
   "source": [
    "# Chaining Comparison Operators\n",
    "i = 5;\n",
    " \n",
    "ans = 1 < i < 10\n",
    "print(ans)\n",
    " \n",
    "ans = 10 > i <= 9\n",
    "print(ans)\n",
    " \n",
    "ans = 5 == i\n",
    "print(ans)"
   ]
  },
  {
   "cell_type": "code",
   "execution_count": 9,
   "id": "45e9f0ce",
   "metadata": {},
   "outputs": [
    {
     "name": "stdout",
     "output_type": "stream",
     "text": [
      "Infinity is greatest\n",
      "Negative Infinity is least\n"
     ]
    }
   ],
   "source": [
    "# Positive Infinity\n",
    "p_infinity = float('Inf')\n",
    " \n",
    "if 99999999999999 > p_infinity:\n",
    "    print(\"The number is greater than Infinity!\")\n",
    "else:\n",
    "    print(\"Infinity is greatest\")\n",
    " \n",
    "# Negative Infinity\n",
    "n_infinity = float('-Inf')\n",
    "if -99999999999999 < n_infinity:\n",
    "    print(\"The number is lesser than Negative Infinity!\")\n",
    "else:\n",
    "    print(\"Negative Infinity is least\")\n"
   ]
  },
  {
   "cell_type": "code",
   "execution_count": 10,
   "id": "f3411e4b",
   "metadata": {},
   "outputs": [
    {
     "name": "stdout",
     "output_type": "stream",
     "text": [
      "[0, 1, 2, 3, 4, 5, 6, 7, 8, 9]\n",
      "[0, 1, 2, 3, 4, 5, 6, 7, 8, 9]\n"
     ]
    }
   ],
   "source": [
    "\n",
    "\n",
    "# Simple List Append\n",
    "a = []\n",
    "for x in range(0,10):\n",
    "    a.append(x)\n",
    "print(a)\n",
    " \n",
    "# List Comprehension\n",
    "print([x for x in a])"
   ]
  },
  {
   "cell_type": "code",
   "execution_count": 11,
   "id": "aa9ff17d",
   "metadata": {},
   "outputs": [
    {
     "name": "stdout",
     "output_type": "stream",
     "text": [
      "[1, 2]\n",
      "[1, 2, 3, 4]\n",
      "[5, 4, 3, 2, 1]\n",
      "[1, 3, 5]\n",
      "[5, 3, 1]\n"
     ]
    }
   ],
   "source": [
    "# Slice Operator\n",
    "a = [1,2,3,4,5]\n",
    " \n",
    "print(a[0:2]) # Choose elements [0-2), upper-bound noninclusive\n",
    " \n",
    "print(a[0:-1]) # Choose all but the last\n",
    " \n",
    "print(a[::-1]) # Reverse the list\n",
    " \n",
    "print(a[::2]) # Skip by 2\n",
    " \n",
    "print(a[::-2]) # Skip by -2 from the back"
   ]
  },
  {
   "cell_type": "code",
   "execution_count": null,
   "id": "122d0391",
   "metadata": {},
   "outputs": [],
   "source": []
  }
 ],
 "metadata": {
  "kernelspec": {
   "display_name": "Python 3 (ipykernel)",
   "language": "python",
   "name": "python3"
  },
  "language_info": {
   "codemirror_mode": {
    "name": "ipython",
    "version": 3
   },
   "file_extension": ".py",
   "mimetype": "text/x-python",
   "name": "python",
   "nbconvert_exporter": "python",
   "pygments_lexer": "ipython3",
   "version": "3.11.5"
  }
 },
 "nbformat": 4,
 "nbformat_minor": 5
}
